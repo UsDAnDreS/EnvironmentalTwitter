{
 "cells": [
  {
   "cell_type": "code",
   "execution_count": 46,
   "id": "0d0608b2",
   "metadata": {},
   "outputs": [],
   "source": [
    "import pandas as pd\n",
    "import numpy as np\n",
    "from sklearn.model_selection import cross_val_predict, train_test_split, GridSearchCV\n",
    "from sklearn.svm import SVC\n",
    "from sklearn.feature_extraction.text import CountVectorizer, TfidfTransformer\n",
    "from sklearn.pipeline import Pipeline\n",
    "from sklearn import metrics\n",
    "from sklearn.preprocessing import StandardScaler\n",
    "from sklearn.model_selection import StratifiedKFold\n",
    "\n",
    "from nltk.corpus import wordnet as wn\n",
    "from nltk.stem.wordnet import WordNetLemmatizer\n",
    "from nltk import word_tokenize, pos_tag\n",
    "from collections import defaultdict\n",
    "import re\n",
    "import json\n",
    "from sklearn.metrics import confusion_matrix\n",
    "import pickle\n",
    "\n",
    "tag_map = defaultdict(lambda: wn.NOUN)\n",
    "tag_map['J'] = wn.ADJ\n",
    "tag_map['V'] = wn.VERB\n",
    "tag_map['R'] = wn.ADV\n",
    "tag_map['AS'] = wn.ADJ_SAT\n",
    "\n",
    "# filepath = \"finalized_8K_accounts.csv\"\n",
    "# filepath = \"finalized_8K_accounts_emojis_replaced.csv\"\n",
    "# filepath = \"FINALIZED_Training_Data_ALL_Available_Descriptions_EMOJIS_REPLACED.csv\"\n",
    "filepath = \"FINALIZED_Training_Data_ALL_Available_Descriptions_EMOJIS_REPLACED_w_DICT_LABELS.csv\"\n",
    "\n",
    "hand_label = \"hand.label_simplified\"\n",
    "\n",
    "df = pd.read_csv(filepath)\n",
    "\n",
    "# Removing all the \"-int\" (international, non-English, descriptions)\n",
    "#dict.fromkeys(df[hand_label])\n",
    "df = df[((df[hand_label] == 'media') | (df[hand_label] == 'tourbiz') |(df[hand_label] == 'acad') | (df[hand_label] == 'gov') | (\n",
    "        df[hand_label] == 'other'))]\n",
    "\n",
    "# df = df[['username', 'description', hand_label, 'max.class']]  # keep only relevant columns\n",
    "\n",
    "lemmatizer = WordNetLemmatizer()\n",
    "words_not_changed = ['media']\n",
    "\n",
    "# Lemmatization (preprocessing)\n",
    "def preprocessing(row):\n",
    "    if str(row) == \"nan\":\n",
    "        lemma = \"\"\n",
    "    else:\n",
    "        row = str(row).lower()\n",
    "        row = word_tokenize(row)  # tokenize\n",
    "        lemma = [lemmatizer.lemmatize(token, tag_map[tag[0]]) if token not in words_not_changed else token for\n",
    "                 token, tag in pos_tag(row)]  # lemmatization, depending on part-of-speech\n",
    "        lemma = [\"\" if re.search(r'\\b[0-9]+\\b\\s*', lem) else lem for lem in lemma]  # removing\n",
    "    return str(lemma)\n",
    "\n",
    "\n",
    "df['description_lemmatized'] = df['description'].apply(preprocessing)\n",
    "\n",
    "# Remove all the empty descriptions\n",
    "df = df[df['description_lemmatized'] != \"\"]\n",
    "#df[hand_label]\n",
    "#print(df.shape)\n",
    "#df[df['description_lemmatized'] != \"\"].shape\n",
    "\n",
    "# split my data into training, and test sets\n",
    "scaler = StandardScaler()"
   ]
  },
  {
   "cell_type": "code",
   "execution_count": 47,
   "id": "0a6e9bb3",
   "metadata": {},
   "outputs": [
    {
     "name": "stdout",
     "output_type": "stream",
     "text": [
      "              precision    recall  f1-score   support\n",
      "\n",
      "        acad       0.58      0.55      0.56       538\n",
      "         gov       0.17      0.28      0.21       128\n",
      "       media       0.59      0.83      0.69      1624\n",
      "       other       0.93      0.86      0.89      9439\n",
      "     tourbiz       0.46      0.29      0.36       194\n",
      "\n",
      "    accuracy                           0.83     11923\n",
      "   macro avg       0.54      0.56      0.54     11923\n",
      "weighted avg       0.85      0.83      0.83     11923\n",
      "\n"
     ]
    }
   ],
   "source": [
    "y_test = df['hand.label_simplified']\n",
    "DICT_y_pred_test = df['single.label']\n",
    "\n",
    "print(metrics.classification_report(y_test, DICT_y_pred_test))"
   ]
  },
  {
   "cell_type": "code",
   "execution_count": 49,
   "id": "8a18f5c1",
   "metadata": {},
   "outputs": [],
   "source": [
    "\n",
    "X = df['single.label']\n",
    "y_labels = df['hand.label_simplified']\n",
    "\n",
    "X_train, X_test, y_train, y_test = train_test_split(X, y_labels, test_size=0.2, random_state=42, stratify=y_labels)\n"
   ]
  },
  {
   "cell_type": "code",
   "execution_count": 50,
   "id": "ab8d61d9",
   "metadata": {},
   "outputs": [
    {
     "name": "stdout",
     "output_type": "stream",
     "text": [
      "              precision    recall  f1-score   support\n",
      "\n",
      "        acad       0.59      0.54      0.57       430\n",
      "         gov       0.19      0.30      0.23       103\n",
      "       media       0.59      0.84      0.70      1299\n",
      "       other       0.93      0.86      0.89      7551\n",
      "     tourbiz       0.43      0.30      0.35       155\n",
      "\n",
      "    accuracy                           0.83      9538\n",
      "   macro avg       0.55      0.57      0.55      9538\n",
      "weighted avg       0.85      0.83      0.84      9538\n",
      "\n"
     ]
    }
   ],
   "source": [
    "#y_test = df['hand.label_simplified']\n",
    "#DICT_y_pred_test = df['max.class']\n",
    "\n",
    "print(metrics.classification_report(y_train, X_train))"
   ]
  },
  {
   "cell_type": "code",
   "execution_count": null,
   "id": "edab3fc2",
   "metadata": {},
   "outputs": [],
   "source": []
  }
 ],
 "metadata": {
  "kernelspec": {
   "display_name": "Python 3 (ipykernel)",
   "language": "python",
   "name": "python3"
  },
  "language_info": {
   "codemirror_mode": {
    "name": "ipython",
    "version": 3
   },
   "file_extension": ".py",
   "mimetype": "text/x-python",
   "name": "python",
   "nbconvert_exporter": "python",
   "pygments_lexer": "ipython3",
   "version": "3.9.13"
  }
 },
 "nbformat": 4,
 "nbformat_minor": 5
}
