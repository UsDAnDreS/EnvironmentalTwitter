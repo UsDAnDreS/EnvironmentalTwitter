{
 "cells": [
  {
   "cell_type": "code",
   "execution_count": 83,
   "id": "initial_id",
   "metadata": {
    "collapsed": true,
    "ExecuteTime": {
     "end_time": "2023-10-09T17:49:14.904554Z",
     "start_time": "2023-10-09T17:49:14.892186Z"
    }
   },
   "outputs": [],
   "source": [
    "import pickle\n",
    "import numpy as np\n",
    "import pandas as pd\n",
    "from nltk import word_tokenize\n",
    "from nltk.stem import WordNetLemmatizer"
   ]
  },
  {
   "cell_type": "code",
   "execution_count": 84,
   "outputs": [
    {
     "name": "stdout",
     "output_type": "stream",
     "text": [
      "        username                                        description\n",
      "0       WFLANews  Tampa Bay's latest news and information. Liste...\n",
      "1   techtampabay  Tampa Bay's Tech Community Radically Connected...\n",
      "2  FloridaIssues                                                NaN\n",
      "3   LeChatNoire4  #VOTE BLUE 2022 :water wave::flag: United Stat...\n",
      "4      SethPlatt  Creator Collector Cultivator Art Web3 ENS AI S...\n"
     ]
    }
   ],
   "source": [
    "data_path= \"./data/UNLABELED_accounts_emojis_replaced.csv\"\n",
    "df = pd.read_csv(data_path)\n",
    "\n",
    "print(df.head())"
   ],
   "metadata": {
    "collapsed": false,
    "ExecuteTime": {
     "end_time": "2023-10-09T17:49:14.936619Z",
     "start_time": "2023-10-09T17:49:14.896583Z"
    }
   },
   "id": "77725e8f91301025"
  },
  {
   "cell_type": "code",
   "execution_count": 85,
   "outputs": [],
   "source": [
    "model_path = \"SVM_BOW_unweighted_enhanced_model_full.pickle\"\n",
    "with open(model_path, 'rb') as model_file:\n",
    "    model = pickle.load(model_file)"
   ],
   "metadata": {
    "collapsed": false,
    "ExecuteTime": {
     "end_time": "2023-10-09T17:49:14.942260Z",
     "start_time": "2023-10-09T17:49:14.935947Z"
    }
   },
   "id": "f265825948d17526"
  },
  {
   "cell_type": "code",
   "execution_count": 86,
   "outputs": [],
   "source": [
    "lemmatizer = WordNetLemmatizer()\n",
    "\n",
    "words_not_changed = ['media']\n",
    "def preprocessing(row):\n",
    "    row = str(row) \n",
    "    row = word_tokenize(row)  \n",
    "    row = [lemmatizer.lemmatize(word) if word not in words_not_changed else word for word in row] \n",
    "    return str(row) "
   ],
   "metadata": {
    "collapsed": false,
    "ExecuteTime": {
     "end_time": "2023-10-09T17:49:14.945510Z",
     "start_time": "2023-10-09T17:49:14.943348Z"
    }
   },
   "id": "90fde8403fb99e0a"
  },
  {
   "cell_type": "code",
   "execution_count": 87,
   "outputs": [],
   "source": [
    "df['description_lemmatized'] = df['description'].apply(preprocessing)\n",
    "X = df['description_lemmatized']"
   ],
   "metadata": {
    "collapsed": false,
    "ExecuteTime": {
     "end_time": "2023-10-09T17:49:17.684042Z",
     "start_time": "2023-10-09T17:49:15.020103Z"
    }
   },
   "id": "f24e823cec1e7142"
  },
  {
   "cell_type": "code",
   "execution_count": 88,
   "outputs": [
    {
     "name": "stdout",
     "output_type": "stream",
     "text": [
      "0    ['Tampa', 'Bay', \"'s\", 'latest', 'news', 'and'...\n",
      "1    ['Tampa', 'Bay', \"'s\", 'Tech', 'Community', 'R...\n",
      "2                                              ['nan']\n",
      "3    ['#', 'VOTE', 'BLUE', '2022', ':', 'water', 'w...\n",
      "4    ['Creator', 'Collector', 'Cultivator', 'Art', ...\n",
      "Name: description_lemmatized, dtype: object\n"
     ]
    }
   ],
   "source": [
    "print(X.head())"
   ],
   "metadata": {
    "collapsed": false,
    "ExecuteTime": {
     "end_time": "2023-10-09T17:49:17.689229Z",
     "start_time": "2023-10-09T17:49:17.686097Z"
    }
   },
   "id": "7cdbb6282268de6c"
  },
  {
   "cell_type": "code",
   "execution_count": 89,
   "outputs": [],
   "source": [
    "predicted_labels = model.predict(X)"
   ],
   "metadata": {
    "collapsed": false,
    "ExecuteTime": {
     "end_time": "2023-10-09T17:49:19.779585Z",
     "start_time": "2023-10-09T17:49:17.712088Z"
    }
   },
   "id": "b701037af2e9ca63"
  },
  {
   "cell_type": "code",
   "execution_count": 90,
   "outputs": [
    {
     "name": "stdout",
     "output_type": "stream",
     "text": [
      "['media' 'other' 'other' ... 'other' 'other' 'other']\n"
     ]
    }
   ],
   "source": [
    "print(predicted_labels)"
   ],
   "metadata": {
    "collapsed": false,
    "ExecuteTime": {
     "end_time": "2023-10-09T17:49:19.782042Z",
     "start_time": "2023-10-09T17:49:19.779861Z"
    }
   },
   "id": "75f8453ebbb2a495"
  },
  {
   "cell_type": "code",
   "execution_count": 91,
   "outputs": [
    {
     "name": "stdout",
     "output_type": "stream",
     "text": [
      "     Value  Count\n",
      "0     acad    503\n",
      "1      gov     95\n",
      "2    media   1305\n",
      "3    other  20531\n",
      "4  tourbiz     56\n"
     ]
    }
   ],
   "source": [
    "unique_values, counts = np.unique(predicted_labels, return_counts=True)\n",
    "\n",
    "value_counts = dict(zip(unique_values, counts))\n",
    "value_counts_df = pd.DataFrame({'Value': unique_values, 'Count': counts})\n",
    "print(value_counts_df)"
   ],
   "metadata": {
    "collapsed": false,
    "ExecuteTime": {
     "end_time": "2023-10-09T17:49:19.791768Z",
     "start_time": "2023-10-09T17:49:19.788830Z"
    }
   },
   "id": "ca4f980200a5aa95"
  },
  {
   "cell_type": "code",
   "execution_count": 92,
   "outputs": [],
   "source": [
    "df['predicted_labels'] = predicted_labels"
   ],
   "metadata": {
    "collapsed": false,
    "ExecuteTime": {
     "end_time": "2023-10-09T17:49:19.793860Z",
     "start_time": "2023-10-09T17:49:19.791481Z"
    }
   },
   "id": "d1d5bc8c4c8f08e7"
  },
  {
   "cell_type": "code",
   "execution_count": 93,
   "outputs": [],
   "source": [
    "output_path = \"./data/UNLABELED_accounts_with_predictions.csv\"\n",
    "df.to_csv(output_path, index=False)"
   ],
   "metadata": {
    "collapsed": false,
    "ExecuteTime": {
     "end_time": "2023-10-09T17:49:19.884114Z",
     "start_time": "2023-10-09T17:49:19.794265Z"
    }
   },
   "id": "103dde7d3019ca44"
  }
 ],
 "metadata": {
  "kernelspec": {
   "display_name": "Python 3",
   "language": "python",
   "name": "python3"
  },
  "language_info": {
   "codemirror_mode": {
    "name": "ipython",
    "version": 2
   },
   "file_extension": ".py",
   "mimetype": "text/x-python",
   "name": "python",
   "nbconvert_exporter": "python",
   "pygments_lexer": "ipython2",
   "version": "2.7.6"
  }
 },
 "nbformat": 4,
 "nbformat_minor": 5
}
