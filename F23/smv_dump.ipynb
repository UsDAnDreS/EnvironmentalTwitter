{
 "cells": [
  {
   "cell_type": "markdown",
   "source": [
    "## TO DO LIST:\n",
    "- **Preprocess the data**\n",
    "- Is the glove the best numerical representation for this task\n",
    "- Check out Naive bayes file in the Machine Learning files\n",
    "- Remove the Match columns from the feature set\n",
    "- Set a hard cut off at 236\n",
    "- DO NOT RUSH and UNDERSTAND THE PROBLEM"
   ],
   "metadata": {
    "collapsed": false
   }
  },
  {
   "cell_type": "code",
   "execution_count": 113,
   "outputs": [],
   "source": [
    "import pandas as pd\n",
    "from nltk.stem import WordNetLemmatizer\n",
    "from nltk import word_tokenize\n",
    "import numpy as np\n",
    "from sklearn.model_selection import train_test_split\n",
    "from sklearn.metrics import accuracy_score\n",
    "from sklearn.model_selection import cross_val_score, cross_val_predict, train_test_split, GridSearchCV\n",
    "from sklearn.svm import SVC"
   ],
   "metadata": {
    "collapsed": false
   }
  },
  {
   "cell_type": "code",
   "execution_count": 15,
   "metadata": {
    "collapsed": true
   },
   "outputs": [
    {
     "name": "stdout",
     "output_type": "stream",
     "text": [
      "          username                                        description  \\\n",
      "0      annenbcnews  Chief Environmental Affairs Correspondent, NBC...   \n",
      "1            USFSM  The official Twitter account for the Universit...   \n",
      "2   KMillerWeather  Real estate and growth reporter for The Palm B...   \n",
      "4  WhySharksMatter  Research associate at @ASU @ASUinDC studying s...   \n",
      "5      Casper30214  Army Civil Service(Retired);Military Ops Resea...   \n",
      "\n",
      "     hand_label                             description_lemmatized  \n",
      "0     ['media']  ['chief', 'environmental', 'affair', 'correspo...  \n",
      "1  ['academia']  ['the', 'official', 'twitter', 'account', 'for...  \n",
      "2     ['media']  ['real', 'estate', 'and', 'growth', 'reporter'...  \n",
      "4  ['academia']  ['research', 'associate', 'at', '@', 'asu', '@...  \n",
      "5     ['other']  ['army', 'civil', 'service', '(', 'retired', '...  \n",
      "\n",
      "          username                                        description  \\\n",
      "0      annenbcnews  Chief Environmental Affairs Correspondent, NBC...   \n",
      "1            USFSM  The official Twitter account for the Universit...   \n",
      "2   KMillerWeather  Real estate and growth reporter for The Palm B...   \n",
      "4  WhySharksMatter  Research associate at @ASU @ASUinDC studying s...   \n",
      "5      Casper30214  Army Civil Service(Retired);Military Ops Resea...   \n",
      "\n",
      "     hand_label                             description_lemmatized  \n",
      "0     ['media']  ['chief', 'environmental', 'affair', 'correspo...  \n",
      "1  ['academia']  ['the', 'official', 'twitter', 'account', 'for...  \n",
      "2     ['media']  ['real', 'estate', 'and', 'growth', 'reporter'...  \n",
      "4  ['academia']  ['research', 'associate', 'at', '@', 'asu', '@...  \n",
      "5     ['other']  ['army', 'civil', 'service', '(', 'retired', '...  \n",
      "\n",
      "Number of labels per category:\n",
      "['media']         166\n",
      "['government']     32\n",
      "['other']          26\n",
      "['academia']        8\n",
      "Name: hand_label, dtype: int64\n",
      "\n"
     ]
    }
   ],
   "source": [
    "# Preprocess the Data: from naivebayes2 (Melvin Adkins work)\n",
    "\n",
    "lemmatizer = WordNetLemmatizer()\n",
    "\n",
    "\n",
    "# Read in hand labeled data\n",
    "filepath = \"df_ver_combined_hand-labels.csv\"\n",
    "hand_label = \"hand_label\"\n",
    "government = \"['government']\"\n",
    "academia = \"['academia']\"\n",
    "\n",
    "df = pd.read_csv(filepath, nrows=235) # reads in hand labeled data\n",
    "df = df[((df[hand_label]==\"['media']\") | (df[hand_label]==academia) | (df[hand_label]==government) | (df[hand_label]==\"['other']\"))] # use single labels\n",
    "df = df[['username','description',hand_label]] # keep only relevant columns\n",
    "\n",
    "\"\"\"\n",
    "filepath = \"finalized_8K_accounts.csv\"\n",
    "hand_label = \"hand.label\"\n",
    "government = \"gov\"\n",
    "academia = \"acad\"\n",
    "\n",
    "df = pd.read_csv(filepath)\n",
    "\n",
    "df = df[((df[hand_label]=='media') | (df[hand_label]== academia) | (df[hand_label]==government) | (df[hand_label]=='other' ))]\n",
    "\n",
    "\n",
    "df = df[['username','description',hand_label]] # keep only relevant columns\n",
    "\"\"\"\n",
    "\n",
    "# Preprocessing step - lemmatization on description column\n",
    "words_not_changed = ['media']\n",
    "def preprocessing(row):\n",
    "    row = str(row).lower()          # lowercase (so that upper and lowercase words are treated the same)\n",
    "    row = word_tokenize(row)   # tokenize  (to perform lemmitization)\n",
    "    row = [lemmatizer.lemmatize(word) if word not in words_not_changed else word for word in row]   # lemmatize\n",
    "    return str(row)            # convert back to string\n",
    "\n",
    "\n",
    "df['description_lemmatized'] = df['description'].apply(preprocessing)\n",
    "\n",
    "\n",
    "print(df.head())\n",
    "print()\n",
    "\n",
    "print(df.head())\n",
    "print()\n",
    "print('Number of labels per category:')\n",
    "print(df[hand_label].value_counts())\n",
    "print()"
   ]
  },
  {
   "cell_type": "markdown",
   "source": [
    "## Is Glove the best numerical representation of text for a supervised machine learning model?\n",
    "I'm not sure. Let's test out a couple of different representations and their effects on the results."
   ],
   "metadata": {
    "collapsed": false
   }
  },
  {
   "cell_type": "code",
   "execution_count": 16,
   "outputs": [],
   "source": [
    "# Creating a copy of the dataframe\n",
    "data = df"
   ],
   "metadata": {
    "collapsed": false
   }
  },
  {
   "cell_type": "markdown",
   "source": [
    "### tf-idf"
   ],
   "metadata": {
    "collapsed": false
   }
  },
  {
   "cell_type": "code",
   "execution_count": 17,
   "outputs": [],
   "source": [
    "from sklearn.feature_extraction.text import TfidfVectorizer\n",
    "\n",
    "tfidf_vectorizer = TfidfVectorizer()\n",
    "X_tfidf = tfidf_vectorizer.fit_transform(data['description_lemmatized'])"
   ],
   "metadata": {
    "collapsed": false
   }
  },
  {
   "cell_type": "markdown",
   "source": [
    "### Bag of Words"
   ],
   "metadata": {
    "collapsed": false
   }
  },
  {
   "cell_type": "code",
   "execution_count": 18,
   "outputs": [],
   "source": [
    "from sklearn.feature_extraction.text import CountVectorizer\n",
    "\n",
    "count_vectorizer = CountVectorizer()\n",
    "X_bow = count_vectorizer.fit_transform(data['description_lemmatized'])"
   ],
   "metadata": {
    "collapsed": false
   }
  },
  {
   "cell_type": "markdown",
   "source": [
    "#########################################################################\n"
   ],
   "metadata": {
    "collapsed": false
   }
  },
  {
   "cell_type": "code",
   "execution_count": 19,
   "outputs": [],
   "source": [
    "# {'precomputed', 'rbf', 'sigmoid', 'linear', 'poly'}\n",
    "def run_model(name, X_features):\n",
    "    # Extract y_labels\n",
    "    y_labels = data[hand_label]\n",
    "    X_train, X_test, y_train, y_test = train_test_split(X_features, y_labels, test_size=0.2, random_state=42, stratify=y_labels)\n",
    "    svm_model = SVC(kernel=\"linear\")\n",
    "\n",
    "    # train the model\n",
    "    svm_model.fit(X_train, y_train)\n",
    "\n",
    "    # run predictions\n",
    "    y_pred = svm_model.predict(X_test)\n",
    "    # evaluate\n",
    "    accuracy = accuracy_score(y_test, y_pred)\n",
    "    print(name, \"Accuracy:\", accuracy)"
   ],
   "metadata": {
    "collapsed": false
   }
  },
  {
   "cell_type": "code",
   "execution_count": 20,
   "outputs": [
    {
     "name": "stdout",
     "output_type": "stream",
     "text": [
      "TF-IDF Accuracy: 0.7659574468085106\n",
      "BAG OF WORDS Accuracy: 0.7659574468085106\n"
     ]
    }
   ],
   "source": [
    "run_model(\"TF-IDF\", X_tfidf)\n",
    "run_model(\"BAG OF WORDS\", X_bow)"
   ],
   "metadata": {
    "collapsed": false
   }
  },
  {
   "cell_type": "markdown",
   "source": [
    "# Answer:\n",
    "To answer Dr. Roy's question, given the current data, gloVe does not seem to be the best numerical representation of the description."
   ],
   "metadata": {
    "collapsed": false
   }
  },
  {
   "cell_type": "markdown",
   "source": [
    "########################################################################################################################\n",
    "## Updated Work:\n",
    "TODO:\n",
    "- F-1\n",
    "- Precision\n",
    "- Recall\n",
    "\n",
    "### Using Linear kernel function:\n",
    "In text classification tasks, linear kernels can work well when the features are derived from text data, such as TF-IDF or bag-of-words representations. Many text classification problems, like sentiment analysis or spam detection, can have linearly separable classes.\n",
    "\n",
    "For this task, it did show a higher accuracy than the other types of kernel functions."
   ],
   "metadata": {
    "collapsed": false
   }
  },
  {
   "cell_type": "code",
   "execution_count": 127,
   "outputs": [
    {
     "ename": "ValueError",
     "evalue": "Cannot center sparse matrices: pass `with_mean=False` instead. See docstring for motivation and alternatives.",
     "output_type": "error",
     "traceback": [
      "\u001B[0;31m---------------------------------------------------------------------------\u001B[0m",
      "\u001B[0;31mValueError\u001B[0m                                Traceback (most recent call last)",
      "Cell \u001B[0;32mIn[127], line 44\u001B[0m\n\u001B[1;32m     41\u001B[0m     plt\u001B[38;5;241m.\u001B[39mtitle(name)\n\u001B[1;32m     42\u001B[0m     plt\u001B[38;5;241m.\u001B[39mshow()\n\u001B[0;32m---> 44\u001B[0m \u001B[43mrun_model\u001B[49m\u001B[43m(\u001B[49m\u001B[38;5;124;43m\"\u001B[39;49m\u001B[38;5;124;43mTF-IDF\u001B[39;49m\u001B[38;5;124;43m\"\u001B[39;49m\u001B[43m,\u001B[49m\u001B[43m \u001B[49m\u001B[43mX_tfidf\u001B[49m\u001B[43m)\u001B[49m\n\u001B[1;32m     45\u001B[0m run_model(\u001B[38;5;124m\"\u001B[39m\u001B[38;5;124mBAG OF WORDS\u001B[39m\u001B[38;5;124m\"\u001B[39m, X_bow)\n",
      "Cell \u001B[0;32mIn[127], line 10\u001B[0m, in \u001B[0;36mrun_model\u001B[0;34m(name, X_features)\u001B[0m\n\u001B[1;32m      7\u001B[0m y_labels \u001B[38;5;241m=\u001B[39m data[hand_label]\n\u001B[1;32m      8\u001B[0m X_train, X_test, y_train, y_test \u001B[38;5;241m=\u001B[39m train_test_split(X_features, y_labels, test_size\u001B[38;5;241m=\u001B[39m\u001B[38;5;241m0.2\u001B[39m, random_state\u001B[38;5;241m=\u001B[39m\u001B[38;5;241m43\u001B[39m, stratify\u001B[38;5;241m=\u001B[39my_labels)\n\u001B[0;32m---> 10\u001B[0m X_train \u001B[38;5;241m=\u001B[39m \u001B[43mscaler\u001B[49m\u001B[38;5;241;43m.\u001B[39;49m\u001B[43mfit\u001B[49m\u001B[43m(\u001B[49m\u001B[43mX_train\u001B[49m\u001B[43m)\u001B[49m\u001B[38;5;241m.\u001B[39mtransform(X_train)\n\u001B[1;32m     12\u001B[0m svm_model \u001B[38;5;241m=\u001B[39m SVC(kernel\u001B[38;5;241m=\u001B[39m\u001B[38;5;124m\"\u001B[39m\u001B[38;5;124mlinear\u001B[39m\u001B[38;5;124m\"\u001B[39m)\n\u001B[1;32m     14\u001B[0m svm_model\u001B[38;5;241m.\u001B[39mfit(X_train, y_train)\n",
      "File \u001B[0;32m/Library/Frameworks/Python.framework/Versions/3.9/lib/python3.9/site-packages/sklearn/preprocessing/_data.py:837\u001B[0m, in \u001B[0;36mStandardScaler.fit\u001B[0;34m(self, X, y, sample_weight)\u001B[0m\n\u001B[1;32m    835\u001B[0m \u001B[38;5;66;03m# Reset internal state before fitting\u001B[39;00m\n\u001B[1;32m    836\u001B[0m \u001B[38;5;28mself\u001B[39m\u001B[38;5;241m.\u001B[39m_reset()\n\u001B[0;32m--> 837\u001B[0m \u001B[38;5;28;01mreturn\u001B[39;00m \u001B[38;5;28;43mself\u001B[39;49m\u001B[38;5;241;43m.\u001B[39;49m\u001B[43mpartial_fit\u001B[49m\u001B[43m(\u001B[49m\u001B[43mX\u001B[49m\u001B[43m,\u001B[49m\u001B[43m \u001B[49m\u001B[43my\u001B[49m\u001B[43m,\u001B[49m\u001B[43m \u001B[49m\u001B[43msample_weight\u001B[49m\u001B[43m)\u001B[49m\n",
      "File \u001B[0;32m/Library/Frameworks/Python.framework/Versions/3.9/lib/python3.9/site-packages/sklearn/base.py:1151\u001B[0m, in \u001B[0;36m_fit_context.<locals>.decorator.<locals>.wrapper\u001B[0;34m(estimator, *args, **kwargs)\u001B[0m\n\u001B[1;32m   1144\u001B[0m     estimator\u001B[38;5;241m.\u001B[39m_validate_params()\n\u001B[1;32m   1146\u001B[0m \u001B[38;5;28;01mwith\u001B[39;00m config_context(\n\u001B[1;32m   1147\u001B[0m     skip_parameter_validation\u001B[38;5;241m=\u001B[39m(\n\u001B[1;32m   1148\u001B[0m         prefer_skip_nested_validation \u001B[38;5;129;01mor\u001B[39;00m global_skip_validation\n\u001B[1;32m   1149\u001B[0m     )\n\u001B[1;32m   1150\u001B[0m ):\n\u001B[0;32m-> 1151\u001B[0m     \u001B[38;5;28;01mreturn\u001B[39;00m \u001B[43mfit_method\u001B[49m\u001B[43m(\u001B[49m\u001B[43mestimator\u001B[49m\u001B[43m,\u001B[49m\u001B[43m \u001B[49m\u001B[38;5;241;43m*\u001B[39;49m\u001B[43margs\u001B[49m\u001B[43m,\u001B[49m\u001B[43m \u001B[49m\u001B[38;5;241;43m*\u001B[39;49m\u001B[38;5;241;43m*\u001B[39;49m\u001B[43mkwargs\u001B[49m\u001B[43m)\u001B[49m\n",
      "File \u001B[0;32m/Library/Frameworks/Python.framework/Versions/3.9/lib/python3.9/site-packages/sklearn/preprocessing/_data.py:901\u001B[0m, in \u001B[0;36mStandardScaler.partial_fit\u001B[0;34m(self, X, y, sample_weight)\u001B[0m\n\u001B[1;32m    899\u001B[0m \u001B[38;5;28;01mif\u001B[39;00m sparse\u001B[38;5;241m.\u001B[39missparse(X):\n\u001B[1;32m    900\u001B[0m     \u001B[38;5;28;01mif\u001B[39;00m \u001B[38;5;28mself\u001B[39m\u001B[38;5;241m.\u001B[39mwith_mean:\n\u001B[0;32m--> 901\u001B[0m         \u001B[38;5;28;01mraise\u001B[39;00m \u001B[38;5;167;01mValueError\u001B[39;00m(\n\u001B[1;32m    902\u001B[0m             \u001B[38;5;124m\"\u001B[39m\u001B[38;5;124mCannot center sparse matrices: pass `with_mean=False` \u001B[39m\u001B[38;5;124m\"\u001B[39m\n\u001B[1;32m    903\u001B[0m             \u001B[38;5;124m\"\u001B[39m\u001B[38;5;124minstead. See docstring for motivation and alternatives.\u001B[39m\u001B[38;5;124m\"\u001B[39m\n\u001B[1;32m    904\u001B[0m         )\n\u001B[1;32m    905\u001B[0m     sparse_constructor \u001B[38;5;241m=\u001B[39m (\n\u001B[1;32m    906\u001B[0m         sparse\u001B[38;5;241m.\u001B[39mcsr_matrix \u001B[38;5;28;01mif\u001B[39;00m X\u001B[38;5;241m.\u001B[39mformat \u001B[38;5;241m==\u001B[39m \u001B[38;5;124m\"\u001B[39m\u001B[38;5;124mcsr\u001B[39m\u001B[38;5;124m\"\u001B[39m \u001B[38;5;28;01melse\u001B[39;00m sparse\u001B[38;5;241m.\u001B[39mcsc_matrix\n\u001B[1;32m    907\u001B[0m     )\n\u001B[1;32m    909\u001B[0m     \u001B[38;5;28;01mif\u001B[39;00m \u001B[38;5;28mself\u001B[39m\u001B[38;5;241m.\u001B[39mwith_std:\n\u001B[1;32m    910\u001B[0m         \u001B[38;5;66;03m# First pass\u001B[39;00m\n",
      "\u001B[0;31mValueError\u001B[0m: Cannot center sparse matrices: pass `with_mean=False` instead. See docstring for motivation and alternatives."
     ]
    }
   ],
   "source": [
    "from sklearn.metrics import confusion_matrix, ConfusionMatrixDisplay, accuracy_score, precision_score, recall_score, f1_score\n",
    "import matplotlib.pyplot as plt\n",
    "\n",
    "\n",
    "\n",
    "def run_model(name, X_features):\n",
    "    y_labels = data[hand_label]\n",
    "    X_train, X_test, y_train, y_test = train_test_split(X_features, y_labels, test_size=0.2, random_state=43, stratify=y_labels)\n",
    "\n",
    "    X_train = scaler.fit(X_train).transform(X_train)\n",
    "\n",
    "    svm_model = SVC(kernel=\"linear\")\n",
    "\n",
    "    svm_model.fit(X_train, y_train)\n",
    "    y_pred = svm_model.predict(X_test)\n",
    "\n",
    "    accuracy = accuracy_score(y_test, y_pred)\n",
    "\n",
    "    # micro\n",
    "    precision = precision_score(y_test, y_pred, average='weighted', zero_division=0.0)\n",
    "    recall = recall_score(y_test, y_pred, average='weighted')\n",
    "    f1 = f1_score(y_test, y_pred, average='weighted')\n",
    "\n",
    "    # macro\n",
    "    macro_precision = precision_score(y_test, y_pred, average='macro', zero_division=0.0)\n",
    "    macro_recall = recall_score(y_test, y_pred, average='macro')\n",
    "    macro_f1 = f1_score(y_test, y_pred, average='macro')\n",
    "\n",
    "    print(f\"{name} Accuracy: {accuracy:.3f}\")\n",
    "\n",
    "    print(f\"{name} Micro Precision: {precision:.3f} Macro Precision: {macro_precision:.3f}\")\n",
    "    print(f\"{name} Micro Recall: {recall:.3f} Macro Recall: {macro_recall:.3f}\")\n",
    "    print(f\"{name} Micro F1-score: {f1:.3f} Macro F1-score: {macro_f1:.3f}\")\n",
    "\n",
    "    print()\n",
    "\n",
    "    cm = confusion_matrix(y_test, y_pred)\n",
    "    disp = ConfusionMatrixDisplay(confusion_matrix=cm, display_labels=[academia, government, 'media', 'other'])\n",
    "    disp.plot()\n",
    "\n",
    "    plt.title(name)\n",
    "    plt.show()\n",
    "\n",
    "run_model(\"TF-IDF\", X_tfidf)\n",
    "run_model(\"BAG OF WORDS\", X_bow)\n"
   ],
   "metadata": {
    "collapsed": false
   }
  },
  {
   "cell_type": "markdown",
   "source": [
    "# Figuring out Best Hyper parameters\n",
    "This process is called hyperparameter tuning, where I will use techniques like cross-validation to determine the optimal values for my hyperparameters ."
   ],
   "metadata": {
    "collapsed": false
   }
  },
  {
   "cell_type": "code",
   "execution_count": 22,
   "outputs": [
    {
     "name": "stdout",
     "output_type": "stream",
     "text": [
      "[0.01, 0.1, 1, 10, 50, 100]\n"
     ]
    }
   ],
   "source": [
    "# pick candidate c values\n",
    "candidate_c_values= [0.01, 0.03, 0.05, 0.10, 0.15, 1, 10, 50, 100 ]\n",
    "print(candidate_c_values)"
   ],
   "metadata": {
    "collapsed": false
   }
  },
  {
   "cell_type": "markdown",
   "source": [
    "The training set is used for training the SVM, the validation set is used to tune the hyperparameters, and the test set is used to evaluate the final model."
   ],
   "metadata": {
    "collapsed": false
   }
  },
  {
   "cell_type": "code",
   "execution_count": 126,
   "outputs": [
    {
     "ename": "ValueError",
     "evalue": "could not convert string to float: \"['the', 'official', 'twitter', 'account', 'of', 'the', 'florida', 'democratic', 'party', '.', 'voter', 'protection', 'hotline', ':', '(', '833', ')', 'vote-fla', 'http', ':', '//t.co/0hmsawp6fr', 'http', ':', '//t.co/hnhu5mrosn']\"",
     "output_type": "error",
     "traceback": [
      "\u001B[0;31m---------------------------------------------------------------------------\u001B[0m",
      "\u001B[0;31mValueError\u001B[0m                                Traceback (most recent call last)",
      "Cell \u001B[0;32mIn[126], line 10\u001B[0m\n\u001B[1;32m      7\u001B[0m y_labels \u001B[38;5;241m=\u001B[39m data[hand_label]\n\u001B[1;32m      9\u001B[0m X_train, X_test, y_train, y_test \u001B[38;5;241m=\u001B[39m train_test_split(X, y_labels, test_size\u001B[38;5;241m=\u001B[39m\u001B[38;5;241m0.2\u001B[39m, random_state\u001B[38;5;241m=\u001B[39m\u001B[38;5;241m42\u001B[39m, stratify\u001B[38;5;241m=\u001B[39my_labels)\n\u001B[0;32m---> 10\u001B[0m X_train \u001B[38;5;241m=\u001B[39m \u001B[43mscaler\u001B[49m\u001B[38;5;241;43m.\u001B[39;49m\u001B[43mfit\u001B[49m\u001B[43m(\u001B[49m\u001B[43mX_train\u001B[49m\u001B[43m)\u001B[49m\u001B[38;5;241m.\u001B[39mtransform(X_train)\n",
      "File \u001B[0;32m/Library/Frameworks/Python.framework/Versions/3.9/lib/python3.9/site-packages/sklearn/preprocessing/_data.py:837\u001B[0m, in \u001B[0;36mStandardScaler.fit\u001B[0;34m(self, X, y, sample_weight)\u001B[0m\n\u001B[1;32m    835\u001B[0m \u001B[38;5;66;03m# Reset internal state before fitting\u001B[39;00m\n\u001B[1;32m    836\u001B[0m \u001B[38;5;28mself\u001B[39m\u001B[38;5;241m.\u001B[39m_reset()\n\u001B[0;32m--> 837\u001B[0m \u001B[38;5;28;01mreturn\u001B[39;00m \u001B[38;5;28;43mself\u001B[39;49m\u001B[38;5;241;43m.\u001B[39;49m\u001B[43mpartial_fit\u001B[49m\u001B[43m(\u001B[49m\u001B[43mX\u001B[49m\u001B[43m,\u001B[49m\u001B[43m \u001B[49m\u001B[43my\u001B[49m\u001B[43m,\u001B[49m\u001B[43m \u001B[49m\u001B[43msample_weight\u001B[49m\u001B[43m)\u001B[49m\n",
      "File \u001B[0;32m/Library/Frameworks/Python.framework/Versions/3.9/lib/python3.9/site-packages/sklearn/base.py:1151\u001B[0m, in \u001B[0;36m_fit_context.<locals>.decorator.<locals>.wrapper\u001B[0;34m(estimator, *args, **kwargs)\u001B[0m\n\u001B[1;32m   1144\u001B[0m     estimator\u001B[38;5;241m.\u001B[39m_validate_params()\n\u001B[1;32m   1146\u001B[0m \u001B[38;5;28;01mwith\u001B[39;00m config_context(\n\u001B[1;32m   1147\u001B[0m     skip_parameter_validation\u001B[38;5;241m=\u001B[39m(\n\u001B[1;32m   1148\u001B[0m         prefer_skip_nested_validation \u001B[38;5;129;01mor\u001B[39;00m global_skip_validation\n\u001B[1;32m   1149\u001B[0m     )\n\u001B[1;32m   1150\u001B[0m ):\n\u001B[0;32m-> 1151\u001B[0m     \u001B[38;5;28;01mreturn\u001B[39;00m \u001B[43mfit_method\u001B[49m\u001B[43m(\u001B[49m\u001B[43mestimator\u001B[49m\u001B[43m,\u001B[49m\u001B[43m \u001B[49m\u001B[38;5;241;43m*\u001B[39;49m\u001B[43margs\u001B[49m\u001B[43m,\u001B[49m\u001B[43m \u001B[49m\u001B[38;5;241;43m*\u001B[39;49m\u001B[38;5;241;43m*\u001B[39;49m\u001B[43mkwargs\u001B[49m\u001B[43m)\u001B[49m\n",
      "File \u001B[0;32m/Library/Frameworks/Python.framework/Versions/3.9/lib/python3.9/site-packages/sklearn/preprocessing/_data.py:873\u001B[0m, in \u001B[0;36mStandardScaler.partial_fit\u001B[0;34m(self, X, y, sample_weight)\u001B[0m\n\u001B[1;32m    841\u001B[0m \u001B[38;5;250m\u001B[39m\u001B[38;5;124;03m\"\"\"Online computation of mean and std on X for later scaling.\u001B[39;00m\n\u001B[1;32m    842\u001B[0m \n\u001B[1;32m    843\u001B[0m \u001B[38;5;124;03mAll of X is processed as a single batch. This is intended for cases\u001B[39;00m\n\u001B[0;32m   (...)\u001B[0m\n\u001B[1;32m    870\u001B[0m \u001B[38;5;124;03m    Fitted scaler.\u001B[39;00m\n\u001B[1;32m    871\u001B[0m \u001B[38;5;124;03m\"\"\"\u001B[39;00m\n\u001B[1;32m    872\u001B[0m first_call \u001B[38;5;241m=\u001B[39m \u001B[38;5;129;01mnot\u001B[39;00m \u001B[38;5;28mhasattr\u001B[39m(\u001B[38;5;28mself\u001B[39m, \u001B[38;5;124m\"\u001B[39m\u001B[38;5;124mn_samples_seen_\u001B[39m\u001B[38;5;124m\"\u001B[39m)\n\u001B[0;32m--> 873\u001B[0m X \u001B[38;5;241m=\u001B[39m \u001B[38;5;28;43mself\u001B[39;49m\u001B[38;5;241;43m.\u001B[39;49m\u001B[43m_validate_data\u001B[49m\u001B[43m(\u001B[49m\n\u001B[1;32m    874\u001B[0m \u001B[43m    \u001B[49m\u001B[43mX\u001B[49m\u001B[43m,\u001B[49m\n\u001B[1;32m    875\u001B[0m \u001B[43m    \u001B[49m\u001B[43maccept_sparse\u001B[49m\u001B[38;5;241;43m=\u001B[39;49m\u001B[43m(\u001B[49m\u001B[38;5;124;43m\"\u001B[39;49m\u001B[38;5;124;43mcsr\u001B[39;49m\u001B[38;5;124;43m\"\u001B[39;49m\u001B[43m,\u001B[49m\u001B[43m \u001B[49m\u001B[38;5;124;43m\"\u001B[39;49m\u001B[38;5;124;43mcsc\u001B[39;49m\u001B[38;5;124;43m\"\u001B[39;49m\u001B[43m)\u001B[49m\u001B[43m,\u001B[49m\n\u001B[1;32m    876\u001B[0m \u001B[43m    \u001B[49m\u001B[43mdtype\u001B[49m\u001B[38;5;241;43m=\u001B[39;49m\u001B[43mFLOAT_DTYPES\u001B[49m\u001B[43m,\u001B[49m\n\u001B[1;32m    877\u001B[0m \u001B[43m    \u001B[49m\u001B[43mforce_all_finite\u001B[49m\u001B[38;5;241;43m=\u001B[39;49m\u001B[38;5;124;43m\"\u001B[39;49m\u001B[38;5;124;43mallow-nan\u001B[39;49m\u001B[38;5;124;43m\"\u001B[39;49m\u001B[43m,\u001B[49m\n\u001B[1;32m    878\u001B[0m \u001B[43m    \u001B[49m\u001B[43mreset\u001B[49m\u001B[38;5;241;43m=\u001B[39;49m\u001B[43mfirst_call\u001B[49m\u001B[43m,\u001B[49m\n\u001B[1;32m    879\u001B[0m \u001B[43m\u001B[49m\u001B[43m)\u001B[49m\n\u001B[1;32m    880\u001B[0m n_features \u001B[38;5;241m=\u001B[39m X\u001B[38;5;241m.\u001B[39mshape[\u001B[38;5;241m1\u001B[39m]\n\u001B[1;32m    882\u001B[0m \u001B[38;5;28;01mif\u001B[39;00m sample_weight \u001B[38;5;129;01mis\u001B[39;00m \u001B[38;5;129;01mnot\u001B[39;00m \u001B[38;5;28;01mNone\u001B[39;00m:\n",
      "File \u001B[0;32m/Library/Frameworks/Python.framework/Versions/3.9/lib/python3.9/site-packages/sklearn/base.py:604\u001B[0m, in \u001B[0;36mBaseEstimator._validate_data\u001B[0;34m(self, X, y, reset, validate_separately, cast_to_ndarray, **check_params)\u001B[0m\n\u001B[1;32m    602\u001B[0m         out \u001B[38;5;241m=\u001B[39m X, y\n\u001B[1;32m    603\u001B[0m \u001B[38;5;28;01melif\u001B[39;00m \u001B[38;5;129;01mnot\u001B[39;00m no_val_X \u001B[38;5;129;01mand\u001B[39;00m no_val_y:\n\u001B[0;32m--> 604\u001B[0m     out \u001B[38;5;241m=\u001B[39m \u001B[43mcheck_array\u001B[49m\u001B[43m(\u001B[49m\u001B[43mX\u001B[49m\u001B[43m,\u001B[49m\u001B[43m \u001B[49m\u001B[43minput_name\u001B[49m\u001B[38;5;241;43m=\u001B[39;49m\u001B[38;5;124;43m\"\u001B[39;49m\u001B[38;5;124;43mX\u001B[39;49m\u001B[38;5;124;43m\"\u001B[39;49m\u001B[43m,\u001B[49m\u001B[43m \u001B[49m\u001B[38;5;241;43m*\u001B[39;49m\u001B[38;5;241;43m*\u001B[39;49m\u001B[43mcheck_params\u001B[49m\u001B[43m)\u001B[49m\n\u001B[1;32m    605\u001B[0m \u001B[38;5;28;01melif\u001B[39;00m no_val_X \u001B[38;5;129;01mand\u001B[39;00m \u001B[38;5;129;01mnot\u001B[39;00m no_val_y:\n\u001B[1;32m    606\u001B[0m     out \u001B[38;5;241m=\u001B[39m _check_y(y, \u001B[38;5;241m*\u001B[39m\u001B[38;5;241m*\u001B[39mcheck_params)\n",
      "File \u001B[0;32m/Library/Frameworks/Python.framework/Versions/3.9/lib/python3.9/site-packages/sklearn/utils/validation.py:917\u001B[0m, in \u001B[0;36mcheck_array\u001B[0;34m(array, accept_sparse, accept_large_sparse, dtype, order, copy, force_all_finite, ensure_2d, allow_nd, ensure_min_samples, ensure_min_features, estimator, input_name)\u001B[0m\n\u001B[1;32m    915\u001B[0m         array \u001B[38;5;241m=\u001B[39m xp\u001B[38;5;241m.\u001B[39mastype(array, dtype, copy\u001B[38;5;241m=\u001B[39m\u001B[38;5;28;01mFalse\u001B[39;00m)\n\u001B[1;32m    916\u001B[0m     \u001B[38;5;28;01melse\u001B[39;00m:\n\u001B[0;32m--> 917\u001B[0m         array \u001B[38;5;241m=\u001B[39m \u001B[43m_asarray_with_order\u001B[49m\u001B[43m(\u001B[49m\u001B[43marray\u001B[49m\u001B[43m,\u001B[49m\u001B[43m \u001B[49m\u001B[43morder\u001B[49m\u001B[38;5;241;43m=\u001B[39;49m\u001B[43morder\u001B[49m\u001B[43m,\u001B[49m\u001B[43m \u001B[49m\u001B[43mdtype\u001B[49m\u001B[38;5;241;43m=\u001B[39;49m\u001B[43mdtype\u001B[49m\u001B[43m,\u001B[49m\u001B[43m \u001B[49m\u001B[43mxp\u001B[49m\u001B[38;5;241;43m=\u001B[39;49m\u001B[43mxp\u001B[49m\u001B[43m)\u001B[49m\n\u001B[1;32m    918\u001B[0m \u001B[38;5;28;01mexcept\u001B[39;00m ComplexWarning \u001B[38;5;28;01mas\u001B[39;00m complex_warning:\n\u001B[1;32m    919\u001B[0m     \u001B[38;5;28;01mraise\u001B[39;00m \u001B[38;5;167;01mValueError\u001B[39;00m(\n\u001B[1;32m    920\u001B[0m         \u001B[38;5;124m\"\u001B[39m\u001B[38;5;124mComplex data not supported\u001B[39m\u001B[38;5;130;01m\\n\u001B[39;00m\u001B[38;5;132;01m{}\u001B[39;00m\u001B[38;5;130;01m\\n\u001B[39;00m\u001B[38;5;124m\"\u001B[39m\u001B[38;5;241m.\u001B[39mformat(array)\n\u001B[1;32m    921\u001B[0m     ) \u001B[38;5;28;01mfrom\u001B[39;00m \u001B[38;5;21;01mcomplex_warning\u001B[39;00m\n",
      "File \u001B[0;32m/Library/Frameworks/Python.framework/Versions/3.9/lib/python3.9/site-packages/sklearn/utils/_array_api.py:380\u001B[0m, in \u001B[0;36m_asarray_with_order\u001B[0;34m(array, dtype, order, copy, xp)\u001B[0m\n\u001B[1;32m    378\u001B[0m     array \u001B[38;5;241m=\u001B[39m numpy\u001B[38;5;241m.\u001B[39marray(array, order\u001B[38;5;241m=\u001B[39morder, dtype\u001B[38;5;241m=\u001B[39mdtype)\n\u001B[1;32m    379\u001B[0m \u001B[38;5;28;01melse\u001B[39;00m:\n\u001B[0;32m--> 380\u001B[0m     array \u001B[38;5;241m=\u001B[39m \u001B[43mnumpy\u001B[49m\u001B[38;5;241;43m.\u001B[39;49m\u001B[43masarray\u001B[49m\u001B[43m(\u001B[49m\u001B[43marray\u001B[49m\u001B[43m,\u001B[49m\u001B[43m \u001B[49m\u001B[43morder\u001B[49m\u001B[38;5;241;43m=\u001B[39;49m\u001B[43morder\u001B[49m\u001B[43m,\u001B[49m\u001B[43m \u001B[49m\u001B[43mdtype\u001B[49m\u001B[38;5;241;43m=\u001B[39;49m\u001B[43mdtype\u001B[49m\u001B[43m)\u001B[49m\n\u001B[1;32m    382\u001B[0m \u001B[38;5;66;03m# At this point array is a NumPy ndarray. We convert it to an array\u001B[39;00m\n\u001B[1;32m    383\u001B[0m \u001B[38;5;66;03m# container that is consistent with the input's namespace.\u001B[39;00m\n\u001B[1;32m    384\u001B[0m \u001B[38;5;28;01mreturn\u001B[39;00m xp\u001B[38;5;241m.\u001B[39masarray(array)\n",
      "File \u001B[0;32m/Library/Frameworks/Python.framework/Versions/3.9/lib/python3.9/site-packages/pandas/core/series.py:857\u001B[0m, in \u001B[0;36mSeries.__array__\u001B[0;34m(self, dtype)\u001B[0m\n\u001B[1;32m    810\u001B[0m \u001B[38;5;28;01mdef\u001B[39;00m \u001B[38;5;21m__array__\u001B[39m(\u001B[38;5;28mself\u001B[39m, dtype: NpDtype \u001B[38;5;241m|\u001B[39m \u001B[38;5;28;01mNone\u001B[39;00m \u001B[38;5;241m=\u001B[39m \u001B[38;5;28;01mNone\u001B[39;00m) \u001B[38;5;241m-\u001B[39m\u001B[38;5;241m>\u001B[39m np\u001B[38;5;241m.\u001B[39mndarray:\n\u001B[1;32m    811\u001B[0m \u001B[38;5;250m    \u001B[39m\u001B[38;5;124;03m\"\"\"\u001B[39;00m\n\u001B[1;32m    812\u001B[0m \u001B[38;5;124;03m    Return the values as a NumPy array.\u001B[39;00m\n\u001B[1;32m    813\u001B[0m \n\u001B[0;32m   (...)\u001B[0m\n\u001B[1;32m    855\u001B[0m \u001B[38;5;124;03m          dtype='datetime64[ns]')\u001B[39;00m\n\u001B[1;32m    856\u001B[0m \u001B[38;5;124;03m    \"\"\"\u001B[39;00m\n\u001B[0;32m--> 857\u001B[0m     \u001B[38;5;28;01mreturn\u001B[39;00m \u001B[43mnp\u001B[49m\u001B[38;5;241;43m.\u001B[39;49m\u001B[43masarray\u001B[49m\u001B[43m(\u001B[49m\u001B[38;5;28;43mself\u001B[39;49m\u001B[38;5;241;43m.\u001B[39;49m\u001B[43m_values\u001B[49m\u001B[43m,\u001B[49m\u001B[43m \u001B[49m\u001B[43mdtype\u001B[49m\u001B[43m)\u001B[49m\n",
      "\u001B[0;31mValueError\u001B[0m: could not convert string to float: \"['the', 'official', 'twitter', 'account', 'of', 'the', 'florida', 'democratic', 'party', '.', 'voter', 'protection', 'hotline', ':', '(', '833', ')', 'vote-fla', 'http', ':', '//t.co/0hmsawp6fr', 'http', ':', '//t.co/hnhu5mrosn']\""
     ]
    }
   ],
   "source": [
    "# split my data into training, validation, and test sets\n",
    "from sklearn.preprocessing import StandardScaler\n",
    "scaler = StandardScaler()\n",
    "\n",
    "X = df['description_lemmatized']\n",
    "y_labels = data[hand_label]\n",
    "\n",
    "X_train, X_test, y_train, y_test = train_test_split(X, y_labels, test_size=0.2, random_state=42, stratify=y_labels)\n"
   ],
   "metadata": {
    "collapsed": false
   }
  },
  {
   "cell_type": "code",
   "execution_count": 79,
   "outputs": [
    {
     "name": "stdout",
     "output_type": "stream",
     "text": [
      "(185,)\n"
     ]
    }
   ],
   "source": [
    "print(X_train.shape)"
   ],
   "metadata": {
    "collapsed": false
   }
  },
  {
   "cell_type": "code",
   "execution_count": 80,
   "outputs": [
    {
     "name": "stdout",
     "output_type": "stream",
     "text": [
      "55          ['other']\n",
      "181         ['media']\n",
      "64          ['media']\n",
      "60          ['other']\n",
      "168         ['media']\n",
      "            ...      \n",
      "229         ['media']\n",
      "90          ['media']\n",
      "160         ['media']\n",
      "32     ['government']\n",
      "194         ['media']\n",
      "Name: hand_label, Length: 185, dtype: object\n"
     ]
    }
   ],
   "source": [
    "print(y_train)"
   ],
   "metadata": {
    "collapsed": false
   }
  },
  {
   "cell_type": "code",
   "execution_count": 81,
   "outputs": [
    {
     "name": "stdout",
     "output_type": "stream",
     "text": [
      "['media']         132\n",
      "['government']     26\n",
      "['other']          21\n",
      "['academia']        6\n",
      "Name: hand_label, dtype: int64\n"
     ]
    }
   ],
   "source": [
    "print(y_train.value_counts())"
   ],
   "metadata": {
    "collapsed": false
   }
  },
  {
   "cell_type": "code",
   "execution_count": 82,
   "outputs": [
    {
     "name": "stdout",
     "output_type": "stream",
     "text": [
      "['media']         34\n",
      "['government']     6\n",
      "['other']          5\n",
      "['academia']       2\n",
      "Name: hand_label, dtype: int64\n"
     ]
    }
   ],
   "source": [
    "print(y_test.value_counts())"
   ],
   "metadata": {
    "collapsed": false
   }
  },
  {
   "cell_type": "code",
   "execution_count": 157,
   "outputs": [],
   "source": [
    "from sklearn.feature_extraction.text import CountVectorizer, TfidfTransformer\n",
    "from sklearn.pipeline import Pipeline\n",
    "\n",
    "tfidf_transformer = TfidfTransformer()\n",
    "count_vectorizer = CountVectorizer(stop_words=\"english\", min_df=0.015)\n",
    "\n",
    "\n",
    "pipeline = Pipeline([\n",
    "    ('vectorizer', count_vectorizer),\n",
    "    ('transformer', tfidf_transformer),\n",
    "    ('normalize', StandardScaler()),\n",
    "    ('classifier', SVC())\n",
    "])\n",
    "\n",
    "param_grid = [\n",
    "    {\n",
    "        'vectorizer__min_df': [0, 0.01, 0.03, 0.05, 0.10, 0.15, 0.20],\n",
    "        'transformer__use_idf': [True, False],\n",
    "        'normalize__with_mean': [False],\n",
    "        'classifier__C': [1.0e-10, 0.5, 2.0, 5.0, 10.0],\n",
    "        'classifier__kernel': ['linear', 'poly', 'rbf', 'sigmoid', 'precomputed']\n",
    "    }\n",
    "]"
   ],
   "metadata": {
    "collapsed": false
   }
  },
  {
   "cell_type": "code",
   "execution_count": 158,
   "outputs": [
    {
     "name": "stdout",
     "output_type": "stream",
     "text": [
      "Fitting 5 folds for each of 350 candidates, totalling 1750 fits\n"
     ]
    },
    {
     "name": "stderr",
     "output_type": "stream",
     "text": [
      "/Library/Frameworks/Python.framework/Versions/3.9/lib/python3.9/site-packages/sklearn/model_selection/_validation.py:425: FitFailedWarning: \n",
      "550 fits failed out of a total of 1750.\n",
      "The score on these train-test partitions for these parameters will be set to nan.\n",
      "If these failures are not expected, you can try to debug them by setting error_score='raise'.\n",
      "\n",
      "Below are more details about the failures:\n",
      "--------------------------------------------------------------------------------\n",
      "250 fits failed with the following error:\n",
      "Traceback (most recent call last):\n",
      "  File \"/Library/Frameworks/Python.framework/Versions/3.9/lib/python3.9/site-packages/sklearn/model_selection/_validation.py\", line 732, in _fit_and_score\n",
      "    estimator.fit(X_train, y_train, **fit_params)\n",
      "  File \"/Library/Frameworks/Python.framework/Versions/3.9/lib/python3.9/site-packages/sklearn/base.py\", line 1151, in wrapper\n",
      "    return fit_method(estimator, *args, **kwargs)\n",
      "  File \"/Library/Frameworks/Python.framework/Versions/3.9/lib/python3.9/site-packages/sklearn/pipeline.py\", line 416, in fit\n",
      "    Xt = self._fit(X, y, **fit_params_steps)\n",
      "  File \"/Library/Frameworks/Python.framework/Versions/3.9/lib/python3.9/site-packages/sklearn/pipeline.py\", line 370, in _fit\n",
      "    X, fitted_transformer = fit_transform_one_cached(\n",
      "  File \"/Library/Frameworks/Python.framework/Versions/3.9/lib/python3.9/site-packages/joblib/memory.py\", line 349, in __call__\n",
      "    return self.func(*args, **kwargs)\n",
      "  File \"/Library/Frameworks/Python.framework/Versions/3.9/lib/python3.9/site-packages/sklearn/pipeline.py\", line 950, in _fit_transform_one\n",
      "    res = transformer.fit_transform(X, y, **fit_params)\n",
      "  File \"/Library/Frameworks/Python.framework/Versions/3.9/lib/python3.9/site-packages/sklearn/base.py\", line 1144, in wrapper\n",
      "    estimator._validate_params()\n",
      "  File \"/Library/Frameworks/Python.framework/Versions/3.9/lib/python3.9/site-packages/sklearn/base.py\", line 637, in _validate_params\n",
      "    validate_parameter_constraints(\n",
      "  File \"/Library/Frameworks/Python.framework/Versions/3.9/lib/python3.9/site-packages/sklearn/utils/_param_validation.py\", line 95, in validate_parameter_constraints\n",
      "    raise InvalidParameterError(\n",
      "sklearn.utils._param_validation.InvalidParameterError: The 'min_df' parameter of CountVectorizer must be a float in the range [0.0, 1.0] or an int in the range [1, inf). Got 0 instead.\n",
      "\n",
      "--------------------------------------------------------------------------------\n",
      "300 fits failed with the following error:\n",
      "Traceback (most recent call last):\n",
      "  File \"/Library/Frameworks/Python.framework/Versions/3.9/lib/python3.9/site-packages/sklearn/model_selection/_validation.py\", line 732, in _fit_and_score\n",
      "    estimator.fit(X_train, y_train, **fit_params)\n",
      "  File \"/Library/Frameworks/Python.framework/Versions/3.9/lib/python3.9/site-packages/sklearn/base.py\", line 1151, in wrapper\n",
      "    return fit_method(estimator, *args, **kwargs)\n",
      "  File \"/Library/Frameworks/Python.framework/Versions/3.9/lib/python3.9/site-packages/sklearn/pipeline.py\", line 420, in fit\n",
      "    self._final_estimator.fit(Xt, y, **fit_params_last_step)\n",
      "  File \"/Library/Frameworks/Python.framework/Versions/3.9/lib/python3.9/site-packages/sklearn/base.py\", line 1151, in wrapper\n",
      "    return fit_method(estimator, *args, **kwargs)\n",
      "  File \"/Library/Frameworks/Python.framework/Versions/3.9/lib/python3.9/site-packages/sklearn/svm/_base.py\", line 184, in fit\n",
      "    raise TypeError(\"Sparse precomputed kernels are not supported.\")\n",
      "TypeError: Sparse precomputed kernels are not supported.\n",
      "\n",
      "  warnings.warn(some_fits_failed_message, FitFailedWarning)\n",
      "/Library/Frameworks/Python.framework/Versions/3.9/lib/python3.9/site-packages/sklearn/model_selection/_search.py:976: UserWarning: One or more of the test scores are non-finite: [       nan 0.71351351 0.71351351 0.71351351 0.71351351 0.71351351\n",
      " 0.71351351        nan 0.71351351 0.71351351 0.71351351 0.71351351\n",
      " 0.71351351 0.71351351        nan 0.71351351 0.71351351 0.71351351\n",
      " 0.71351351 0.71351351 0.71351351        nan 0.71351351 0.71351351\n",
      " 0.71351351 0.71351351 0.71351351 0.71351351        nan 0.71351351\n",
      " 0.71351351 0.71351351 0.71351351 0.71351351 0.71351351        nan\n",
      " 0.71351351 0.71351351 0.71351351 0.71351351 0.71351351 0.71351351\n",
      "        nan 0.71351351 0.71351351 0.71351351 0.71351351 0.71351351\n",
      " 0.71351351        nan 0.71351351 0.71351351 0.71351351 0.71351351\n",
      " 0.71351351 0.71351351        nan        nan        nan        nan\n",
      "        nan        nan        nan        nan        nan        nan\n",
      "        nan        nan        nan        nan        nan 0.80540541\n",
      " 0.65405405 0.74054054 0.77297297 0.76756757 0.72972973        nan\n",
      " 0.79459459 0.64324324 0.75135135 0.77297297 0.76756757 0.72972973\n",
      "        nan 0.71351351 0.72972973 0.78918919 0.75675676 0.76756757\n",
      " 0.72972973        nan 0.71351351 0.72432432 0.78918919 0.75135135\n",
      " 0.77297297 0.72972973        nan 0.71351351 0.72432432 0.74054054\n",
      " 0.74594595 0.77297297 0.73513514        nan 0.71351351 0.72972973\n",
      " 0.73513514 0.74054054 0.77297297 0.73513514        nan 0.71891892\n",
      " 0.74054054 0.75675676 0.75135135 0.74054054 0.72972973        nan\n",
      " 0.71891892 0.74594595 0.76216216 0.75675676 0.74054054 0.72972973\n",
      "        nan        nan        nan        nan        nan        nan\n",
      "        nan        nan        nan        nan        nan        nan\n",
      "        nan        nan        nan 0.80540541 0.65405405 0.72972973\n",
      " 0.77297297 0.76756757 0.72972973        nan 0.79459459 0.63243243\n",
      " 0.72972973 0.77297297 0.76756757 0.72972973        nan 0.72972973\n",
      " 0.73513514 0.77297297 0.76216216 0.76756757 0.72972973        nan\n",
      " 0.72972973 0.74594595 0.77837838 0.75675676 0.76756757 0.72972973\n",
      "        nan 0.78918919 0.72432432 0.76756757 0.77297297 0.77297297\n",
      " 0.73513514        nan 0.77837838 0.74054054 0.76756757 0.76216216\n",
      " 0.77297297 0.73513514        nan 0.81081081 0.76216216 0.76756757\n",
      " 0.75135135 0.74594595 0.72432432        nan 0.82162162 0.76216216\n",
      " 0.76756757 0.75135135 0.75135135 0.72432432        nan        nan\n",
      "        nan        nan        nan        nan        nan        nan\n",
      "        nan        nan        nan        nan        nan        nan\n",
      "        nan 0.80540541 0.62162162 0.71891892 0.77297297 0.76756757\n",
      " 0.72972973        nan 0.79459459 0.63783784 0.71351351 0.77297297\n",
      " 0.76756757 0.72972973        nan 0.73513514 0.71891892 0.77297297\n",
      " 0.76756757 0.76216216 0.72972973        nan 0.72972973 0.73513514\n",
      " 0.77837838 0.76216216 0.76216216 0.72972973        nan 0.78918919\n",
      " 0.7027027  0.76756757 0.77297297 0.76756757 0.72972973        nan\n",
      " 0.78378378 0.6972973  0.76216216 0.77297297 0.76756757 0.72972973\n",
      "        nan 0.76216216 0.7027027  0.76756757 0.74054054 0.75135135\n",
      " 0.72432432        nan 0.76756757 0.71891892 0.75675676 0.71891892\n",
      " 0.74594595 0.72432432        nan        nan        nan        nan\n",
      "        nan        nan        nan        nan        nan        nan\n",
      "        nan        nan        nan        nan        nan 0.80540541\n",
      " 0.61621622 0.71351351 0.77297297 0.76756757 0.72972973        nan\n",
      " 0.79459459 0.62702703 0.70810811 0.77297297 0.76756757 0.72972973\n",
      "        nan 0.74594595 0.71891892 0.77297297 0.76756757 0.76216216\n",
      " 0.72972973        nan 0.73513514 0.72432432 0.78378378 0.76216216\n",
      " 0.76216216 0.72972973        nan 0.78918919 0.69189189 0.76756757\n",
      " 0.77837838 0.76216216 0.72972973        nan 0.78918919 0.69189189\n",
      " 0.76756757 0.77837838 0.76216216 0.72972973        nan 0.77837838\n",
      " 0.67567568 0.73513514 0.71891892 0.73513514 0.72432432        nan\n",
      " 0.76756757 0.68108108 0.73513514 0.72972973 0.73513514 0.72432432\n",
      "        nan        nan        nan        nan        nan        nan\n",
      "        nan        nan        nan        nan        nan        nan\n",
      "        nan        nan]\n",
      "  warnings.warn(\n"
     ]
    },
    {
     "data": {
      "text/plain": "GridSearchCV(cv=5,\n             estimator=Pipeline(steps=[('vectorizer',\n                                        CountVectorizer(min_df=0.015,\n                                                        stop_words='english')),\n                                       ('transformer', TfidfTransformer()),\n                                       ('normalize', StandardScaler()),\n                                       ('classifier', SVC())]),\n             param_grid=[{'classifier__C': [1e-10, 0.5, 2.0, 5.0, 10.0],\n                          'classifier__kernel': ['linear', 'poly', 'rbf',\n                                                 'sigmoid', 'precomputed'],\n                          'normalize__with_mean': [False],\n                          'transformer__use_idf': [True, False],\n                          'vectorizer__min_df': [0, 0.01, 0.03, 0.05, 0.1, 0.15,\n                                                 0.2]}],\n             scoring='accuracy', verbose=1)",
      "text/html": "<style>#sk-container-id-6 {color: black;}#sk-container-id-6 pre{padding: 0;}#sk-container-id-6 div.sk-toggleable {background-color: white;}#sk-container-id-6 label.sk-toggleable__label {cursor: pointer;display: block;width: 100%;margin-bottom: 0;padding: 0.3em;box-sizing: border-box;text-align: center;}#sk-container-id-6 label.sk-toggleable__label-arrow:before {content: \"▸\";float: left;margin-right: 0.25em;color: #696969;}#sk-container-id-6 label.sk-toggleable__label-arrow:hover:before {color: black;}#sk-container-id-6 div.sk-estimator:hover label.sk-toggleable__label-arrow:before {color: black;}#sk-container-id-6 div.sk-toggleable__content {max-height: 0;max-width: 0;overflow: hidden;text-align: left;background-color: #f0f8ff;}#sk-container-id-6 div.sk-toggleable__content pre {margin: 0.2em;color: black;border-radius: 0.25em;background-color: #f0f8ff;}#sk-container-id-6 input.sk-toggleable__control:checked~div.sk-toggleable__content {max-height: 200px;max-width: 100%;overflow: auto;}#sk-container-id-6 input.sk-toggleable__control:checked~label.sk-toggleable__label-arrow:before {content: \"▾\";}#sk-container-id-6 div.sk-estimator input.sk-toggleable__control:checked~label.sk-toggleable__label {background-color: #d4ebff;}#sk-container-id-6 div.sk-label input.sk-toggleable__control:checked~label.sk-toggleable__label {background-color: #d4ebff;}#sk-container-id-6 input.sk-hidden--visually {border: 0;clip: rect(1px 1px 1px 1px);clip: rect(1px, 1px, 1px, 1px);height: 1px;margin: -1px;overflow: hidden;padding: 0;position: absolute;width: 1px;}#sk-container-id-6 div.sk-estimator {font-family: monospace;background-color: #f0f8ff;border: 1px dotted black;border-radius: 0.25em;box-sizing: border-box;margin-bottom: 0.5em;}#sk-container-id-6 div.sk-estimator:hover {background-color: #d4ebff;}#sk-container-id-6 div.sk-parallel-item::after {content: \"\";width: 100%;border-bottom: 1px solid gray;flex-grow: 1;}#sk-container-id-6 div.sk-label:hover label.sk-toggleable__label {background-color: #d4ebff;}#sk-container-id-6 div.sk-serial::before {content: \"\";position: absolute;border-left: 1px solid gray;box-sizing: border-box;top: 0;bottom: 0;left: 50%;z-index: 0;}#sk-container-id-6 div.sk-serial {display: flex;flex-direction: column;align-items: center;background-color: white;padding-right: 0.2em;padding-left: 0.2em;position: relative;}#sk-container-id-6 div.sk-item {position: relative;z-index: 1;}#sk-container-id-6 div.sk-parallel {display: flex;align-items: stretch;justify-content: center;background-color: white;position: relative;}#sk-container-id-6 div.sk-item::before, #sk-container-id-6 div.sk-parallel-item::before {content: \"\";position: absolute;border-left: 1px solid gray;box-sizing: border-box;top: 0;bottom: 0;left: 50%;z-index: -1;}#sk-container-id-6 div.sk-parallel-item {display: flex;flex-direction: column;z-index: 1;position: relative;background-color: white;}#sk-container-id-6 div.sk-parallel-item:first-child::after {align-self: flex-end;width: 50%;}#sk-container-id-6 div.sk-parallel-item:last-child::after {align-self: flex-start;width: 50%;}#sk-container-id-6 div.sk-parallel-item:only-child::after {width: 0;}#sk-container-id-6 div.sk-dashed-wrapped {border: 1px dashed gray;margin: 0 0.4em 0.5em 0.4em;box-sizing: border-box;padding-bottom: 0.4em;background-color: white;}#sk-container-id-6 div.sk-label label {font-family: monospace;font-weight: bold;display: inline-block;line-height: 1.2em;}#sk-container-id-6 div.sk-label-container {text-align: center;}#sk-container-id-6 div.sk-container {/* jupyter's `normalize.less` sets `[hidden] { display: none; }` but bootstrap.min.css set `[hidden] { display: none !important; }` so we also need the `!important` here to be able to override the default hidden behavior on the sphinx rendered scikit-learn.org. See: https://github.com/scikit-learn/scikit-learn/issues/21755 */display: inline-block !important;position: relative;}#sk-container-id-6 div.sk-text-repr-fallback {display: none;}</style><div id=\"sk-container-id-6\" class=\"sk-top-container\"><div class=\"sk-text-repr-fallback\"><pre>GridSearchCV(cv=5,\n             estimator=Pipeline(steps=[(&#x27;vectorizer&#x27;,\n                                        CountVectorizer(min_df=0.015,\n                                                        stop_words=&#x27;english&#x27;)),\n                                       (&#x27;transformer&#x27;, TfidfTransformer()),\n                                       (&#x27;normalize&#x27;, StandardScaler()),\n                                       (&#x27;classifier&#x27;, SVC())]),\n             param_grid=[{&#x27;classifier__C&#x27;: [1e-10, 0.5, 2.0, 5.0, 10.0],\n                          &#x27;classifier__kernel&#x27;: [&#x27;linear&#x27;, &#x27;poly&#x27;, &#x27;rbf&#x27;,\n                                                 &#x27;sigmoid&#x27;, &#x27;precomputed&#x27;],\n                          &#x27;normalize__with_mean&#x27;: [False],\n                          &#x27;transformer__use_idf&#x27;: [True, False],\n                          &#x27;vectorizer__min_df&#x27;: [0, 0.01, 0.03, 0.05, 0.1, 0.15,\n                                                 0.2]}],\n             scoring=&#x27;accuracy&#x27;, verbose=1)</pre><b>In a Jupyter environment, please rerun this cell to show the HTML representation or trust the notebook. <br />On GitHub, the HTML representation is unable to render, please try loading this page with nbviewer.org.</b></div><div class=\"sk-container\" hidden><div class=\"sk-item sk-dashed-wrapped\"><div class=\"sk-label-container\"><div class=\"sk-label sk-toggleable\"><input class=\"sk-toggleable__control sk-hidden--visually\" id=\"sk-estimator-id-23\" type=\"checkbox\" ><label for=\"sk-estimator-id-23\" class=\"sk-toggleable__label sk-toggleable__label-arrow\">GridSearchCV</label><div class=\"sk-toggleable__content\"><pre>GridSearchCV(cv=5,\n             estimator=Pipeline(steps=[(&#x27;vectorizer&#x27;,\n                                        CountVectorizer(min_df=0.015,\n                                                        stop_words=&#x27;english&#x27;)),\n                                       (&#x27;transformer&#x27;, TfidfTransformer()),\n                                       (&#x27;normalize&#x27;, StandardScaler()),\n                                       (&#x27;classifier&#x27;, SVC())]),\n             param_grid=[{&#x27;classifier__C&#x27;: [1e-10, 0.5, 2.0, 5.0, 10.0],\n                          &#x27;classifier__kernel&#x27;: [&#x27;linear&#x27;, &#x27;poly&#x27;, &#x27;rbf&#x27;,\n                                                 &#x27;sigmoid&#x27;, &#x27;precomputed&#x27;],\n                          &#x27;normalize__with_mean&#x27;: [False],\n                          &#x27;transformer__use_idf&#x27;: [True, False],\n                          &#x27;vectorizer__min_df&#x27;: [0, 0.01, 0.03, 0.05, 0.1, 0.15,\n                                                 0.2]}],\n             scoring=&#x27;accuracy&#x27;, verbose=1)</pre></div></div></div><div class=\"sk-parallel\"><div class=\"sk-parallel-item\"><div class=\"sk-item\"><div class=\"sk-label-container\"><div class=\"sk-label sk-toggleable\"><input class=\"sk-toggleable__control sk-hidden--visually\" id=\"sk-estimator-id-24\" type=\"checkbox\" ><label for=\"sk-estimator-id-24\" class=\"sk-toggleable__label sk-toggleable__label-arrow\">estimator: Pipeline</label><div class=\"sk-toggleable__content\"><pre>Pipeline(steps=[(&#x27;vectorizer&#x27;,\n                 CountVectorizer(min_df=0.015, stop_words=&#x27;english&#x27;)),\n                (&#x27;transformer&#x27;, TfidfTransformer()),\n                (&#x27;normalize&#x27;, StandardScaler()), (&#x27;classifier&#x27;, SVC())])</pre></div></div></div><div class=\"sk-serial\"><div class=\"sk-item\"><div class=\"sk-serial\"><div class=\"sk-item\"><div class=\"sk-estimator sk-toggleable\"><input class=\"sk-toggleable__control sk-hidden--visually\" id=\"sk-estimator-id-25\" type=\"checkbox\" ><label for=\"sk-estimator-id-25\" class=\"sk-toggleable__label sk-toggleable__label-arrow\">CountVectorizer</label><div class=\"sk-toggleable__content\"><pre>CountVectorizer(min_df=0.015, stop_words=&#x27;english&#x27;)</pre></div></div></div><div class=\"sk-item\"><div class=\"sk-estimator sk-toggleable\"><input class=\"sk-toggleable__control sk-hidden--visually\" id=\"sk-estimator-id-26\" type=\"checkbox\" ><label for=\"sk-estimator-id-26\" class=\"sk-toggleable__label sk-toggleable__label-arrow\">TfidfTransformer</label><div class=\"sk-toggleable__content\"><pre>TfidfTransformer()</pre></div></div></div><div class=\"sk-item\"><div class=\"sk-estimator sk-toggleable\"><input class=\"sk-toggleable__control sk-hidden--visually\" id=\"sk-estimator-id-27\" type=\"checkbox\" ><label for=\"sk-estimator-id-27\" class=\"sk-toggleable__label sk-toggleable__label-arrow\">StandardScaler</label><div class=\"sk-toggleable__content\"><pre>StandardScaler()</pre></div></div></div><div class=\"sk-item\"><div class=\"sk-estimator sk-toggleable\"><input class=\"sk-toggleable__control sk-hidden--visually\" id=\"sk-estimator-id-28\" type=\"checkbox\" ><label for=\"sk-estimator-id-28\" class=\"sk-toggleable__label sk-toggleable__label-arrow\">SVC</label><div class=\"sk-toggleable__content\"><pre>SVC()</pre></div></div></div></div></div></div></div></div></div></div></div></div>"
     },
     "execution_count": 158,
     "metadata": {},
     "output_type": "execute_result"
    }
   ],
   "source": [
    "from sklearn.model_selection import GridSearchCV\n",
    "\n",
    "grid_search = GridSearchCV(estimator=pipeline, param_grid=param_grid, cv=5, scoring='accuracy', verbose=1)\n",
    "\n",
    "grid_search.fit(X_train, y_train)"
   ],
   "metadata": {
    "collapsed": false
   }
  },
  {
   "cell_type": "code",
   "execution_count": 151,
   "outputs": [
    {
     "name": "stdout",
     "output_type": "stream",
     "text": [
      "Best ACCURACY: 0.8\n",
      "Best Hyperparameters: {'classifier__C': 2.0, 'classifier__kernel': 'sigmoid', 'normalize__with_mean': False, 'vectorizer__min_df': 0.01}\n",
      "\n"
     ]
    }
   ],
   "source": [
    "best_hyperparameters = grid_search.best_params_\n",
    "print(\"Best ACCURACY:\", grid_search.best_score_)\n",
    "print(\"Best Hyperparameters:\", best_hyperparameters)\n",
    "\n",
    "print()"
   ],
   "metadata": {
    "collapsed": false
   }
  },
  {
   "cell_type": "code",
   "execution_count": 152,
   "outputs": [],
   "source": [
    "best_model = grid_search.best_estimator_\n",
    "y_pred = best_model.predict(X_test)\n",
    "y_pred_train = best_model.predict(X_train)\n"
   ],
   "metadata": {
    "collapsed": false
   }
  },
  {
   "cell_type": "code",
   "execution_count": 153,
   "outputs": [
    {
     "data": {
      "text/plain": "<Figure size 640x480 with 2 Axes>",
      "image/png": "[encoded data removed]"
     },
     "metadata": {},
     "output_type": "display_data"
    }
   ],
   "source": [
    "cm = confusion_matrix(y_test, y_pred)\n",
    "disp = ConfusionMatrixDisplay(confusion_matrix=cm, display_labels=['academia', 'government', 'media', 'other'])\n",
    "disp.plot()\n",
    "\n",
    "plt.title(\"TF-IDF\")\n",
    "plt.show()"
   ],
   "metadata": {
    "collapsed": false
   }
  },
  {
   "cell_type": "code",
   "execution_count": 154,
   "outputs": [
    {
     "name": "stdout",
     "output_type": "stream",
     "text": [
      "Confusion Matrix for NB tfidf:\n"
     ]
    },
    {
     "data": {
      "text/plain": "<Figure size 640x480 with 2 Axes>",
      "image/png": "[encoded data removed]"
     },
     "metadata": {},
     "output_type": "display_data"
    }
   ],
   "source": [
    "y_pred_tfidf = cross_val_predict(best_model, X_train, y_train, cv=5)\n",
    "\n",
    "cm_tfidf = confusion_matrix(y_train, y_pred_tfidf, normalize='true')\n",
    "\n",
    "disp_tfidf = ConfusionMatrixDisplay(confusion_matrix=cm_tfidf, display_labels=['academia', 'government', 'media', 'other'])\n",
    "\n",
    "print('Confusion Matrix for NB tfidf:')\n",
    "disp_tfidf.plot()\n",
    "plt.show()"
   ],
   "metadata": {
    "collapsed": false
   }
  },
  {
   "cell_type": "code",
   "execution_count": 155,
   "outputs": [
    {
     "name": "stdout",
     "output_type": "stream",
     "text": [
      "Confusion Matrix for NB tfidf:\n"
     ]
    },
    {
     "data": {
      "text/plain": "<Figure size 640x480 with 2 Axes>",
      "image/png": "[encoded data removed]"
     },
     "metadata": {},
     "output_type": "display_data"
    }
   ],
   "source": [
    "\n",
    "cm_tfidf = confusion_matrix(y_train, y_pred_train)\n",
    "\n",
    "disp_tfidf = ConfusionMatrixDisplay(confusion_matrix=cm_tfidf, display_labels=['academia', 'government', 'media', 'other'])\n",
    "\n",
    "print('Confusion Matrix for NB tfidf:')\n",
    "disp_tfidf.plot()\n",
    "plt.show()"
   ],
   "metadata": {
    "collapsed": false
   }
  },
  {
   "cell_type": "code",
   "execution_count": 156,
   "outputs": [
    {
     "name": "stdout",
     "output_type": "stream",
     "text": [
      "TF-IDF Classification Report TRAIN:\n",
      "                precision    recall  f1-score   support\n",
      "\n",
      "  ['academia']       0.00      0.00      0.00         6\n",
      "['government']       0.73      0.62      0.67        26\n",
      "     ['media']       0.82      0.98      0.89       132\n",
      "     ['other']       1.00      0.14      0.25        21\n",
      "\n",
      "      accuracy                           0.80       185\n",
      "     macro avg       0.64      0.43      0.45       185\n",
      "  weighted avg       0.80      0.80      0.76       185\n",
      "\n",
      "\n",
      "TF-IDF Classification Report:\n",
      "                precision    recall  f1-score   support\n",
      "\n",
      "  ['academia']       1.00      0.50      0.67         2\n",
      "['government']       0.60      0.50      0.55         6\n",
      "     ['media']       0.85      0.97      0.90        34\n",
      "     ['other']       0.50      0.20      0.29         5\n",
      "\n",
      "      accuracy                           0.81        47\n",
      "     macro avg       0.74      0.54      0.60        47\n",
      "  weighted avg       0.78      0.81      0.78        47\n",
      "\n",
      "\n"
     ]
    }
   ],
   "source": [
    "from sklearn import metrics\n",
    "\n",
    "print(\"TF-IDF Classification Report TRAIN:\")\n",
    "print(metrics.classification_report(y_train, y_pred_tfidf))\n",
    "print()\n",
    "\n",
    "print(\"TF-IDF Classification Report:\")\n",
    "print(metrics.classification_report(y_test, y_pred))\n",
    "print()"
   ],
   "metadata": {
    "collapsed": false
   }
  },
  {
   "cell_type": "code",
   "execution_count": null,
   "outputs": [],
   "source": [],
   "metadata": {
    "collapsed": false
   }
  }
 ],
 "metadata": {
  "kernelspec": {
   "display_name": "Python 3",
   "language": "python",
   "name": "python3"
  },
  "language_info": {
   "codemirror_mode": {
    "name": "ipython",
    "version": 2
   },
   "file_extension": ".py",
   "mimetype": "text/x-python",
   "name": "python",
   "nbconvert_exporter": "python",
   "pygments_lexer": "ipython2",
   "version": "2.7.6"
  }
 },
 "nbformat": 4,
 "nbformat_minor": 0
}
